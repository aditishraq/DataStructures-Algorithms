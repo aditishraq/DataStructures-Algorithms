{
 "cells": [
  {
   "cell_type": "code",
   "execution_count": 40,
   "metadata": {},
   "outputs": [
    {
     "name": "stdout",
     "output_type": "stream",
     "text": [
      "In Feb, how many dollars you spent extra compare to January?\n",
      ": 150\n"
     ]
    }
   ],
   "source": [
    "expense  = [2200, 2350, 2600, 2130, 2190]\n",
    "\n",
    "print('In Feb, how many dollars you spent extra compare to January?\\n:',expense[1]-expense[0])"
   ]
  },
  {
   "cell_type": "code",
   "execution_count": 41,
   "metadata": {},
   "outputs": [
    {
     "name": "stdout",
     "output_type": "stream",
     "text": [
      "Find out your total expense in first quarter (first three months) of the year.\n",
      ": 6900\n"
     ]
    }
   ],
   "source": [
    "print('Find out your total expense in first quarter (first three months) of the year.\\n:',expense[1] + expense[0] + expense[1])"
   ]
  },
  {
   "cell_type": "code",
   "execution_count": 42,
   "metadata": {},
   "outputs": [
    {
     "name": "stdout",
     "output_type": "stream",
     "text": [
      "Find out if you spent exactly 2000 dollars in any month\n",
      ": False\n"
     ]
    }
   ],
   "source": [
    "print('Find out if you spent exactly 2000 dollars in any month\\n:',2000 in expense)"
   ]
  },
  {
   "cell_type": "code",
   "execution_count": 43,
   "metadata": {},
   "outputs": [
    {
     "name": "stdout",
     "output_type": "stream",
     "text": [
      "June month just finished and your expense is 1980 dollar. Add this item to our monthly expense list\n",
      ":\n",
      "[2200, 2350, 2600, 2130, 2190, 1980]\n"
     ]
    }
   ],
   "source": [
    "print('June month just finished and your expense is 1980 dollar. Add this item to our monthly expense list\\n:')\n",
    "expense.insert(5,1980)\n",
    "print(expense)"
   ]
  },
  {
   "cell_type": "code",
   "execution_count": 44,
   "metadata": {},
   "outputs": [
    {
     "data": {
      "text/plain": [
       "\"\\nprint('June month just finished and your expense is 1980 dollar. Add this item to our monthly expense list\\n:')\\nexpense.append(1980)\\nprint(expense)\\n\""
      ]
     },
     "execution_count": 44,
     "metadata": {},
     "output_type": "execute_result"
    }
   ],
   "source": [
    "'''\n",
    "print('June month just finished and your expense is 1980 dollar. Add this item to our monthly expense list\\n:')\n",
    "expense.append(1980)\n",
    "print(expense)\n",
    "'''"
   ]
  },
  {
   "cell_type": "code",
   "execution_count": 45,
   "metadata": {},
   "outputs": [
    {
     "name": "stdout",
     "output_type": "stream",
     "text": [
      "You returned an item that you bought in a month of April and got a refund of 200$. Make a correction to your monthly expense list based on this\n",
      "[2200, 2350, 2600, 2130, 2190, 1980]\n"
     ]
    }
   ],
   "source": [
    "print('You returned an item that you bought in a month of April and got a refund of 200$. Make a correction to your monthly expense list based on this')\n",
    "expense[5] - 200\n",
    "print(expense)"
   ]
  },
  {
   "cell_type": "code",
   "execution_count": null,
   "metadata": {},
   "outputs": [],
   "source": []
  },
  {
   "cell_type": "code",
   "execution_count": null,
   "metadata": {},
   "outputs": [],
   "source": []
  }
 ],
 "metadata": {
  "kernelspec": {
   "display_name": "Python 3",
   "language": "python",
   "name": "python3"
  },
  "language_info": {
   "codemirror_mode": {
    "name": "ipython",
    "version": 3
   },
   "file_extension": ".py",
   "mimetype": "text/x-python",
   "name": "python",
   "nbconvert_exporter": "python",
   "pygments_lexer": "ipython3",
   "version": "3.8.5"
  }
 },
 "nbformat": 4,
 "nbformat_minor": 4
}
